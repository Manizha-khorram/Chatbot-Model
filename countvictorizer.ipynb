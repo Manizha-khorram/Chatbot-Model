{
 "cells": [
  {
   "cell_type": "code",
   "execution_count": 1,
   "id": "5b3cca79-94da-4827-8201-464b8533b605",
   "metadata": {},
   "outputs": [
    {
     "name": "stdout",
     "output_type": "stream",
     "text": [
      "['enjoyed' 'film' 'hate' 'is' 'love' 'movie' 'terrible' 'the' 'this']\n",
      "[[0 0 0 0 1 1 0 0 1]\n",
      " [0 1 0 1 0 0 1 0 1]\n",
      " [1 1 0 0 0 0 0 1 0]\n",
      " [0 0 1 0 0 1 0 0 1]]\n"
     ]
    }
   ],
   "source": [
    "from sklearn.feature_extraction.text import CountVectorizer\n",
    "\n",
    "\n",
    "texts = [\"I love this movie\", \"This film is terrible\", \"I enjoyed the film\", \"I hate this movie\"]\n",
    "\n",
    "# CountVectorizer\n",
    "vectorizer = CountVectorizer()\n",
    "\n",
    "# Convert text to numerical victors\n",
    "X = vectorizer.fit_transform(texts)\n",
    "\n",
    "# Disply words\n",
    "print(vectorizer.get_feature_names_out())\n",
    "\n",
    "# Display victors\n",
    "print(X.toarray())"
   ]
  },
  {
   "cell_type": "code",
   "execution_count": null,
   "id": "51da6479-005e-4d27-b22a-84ad366a781a",
   "metadata": {},
   "outputs": [],
   "source": []
  }
 ],
 "metadata": {
  "kernelspec": {
   "display_name": "Python 3 (ipykernel)",
   "language": "python",
   "name": "python3"
  },
  "language_info": {
   "codemirror_mode": {
    "name": "ipython",
    "version": 3
   },
   "file_extension": ".py",
   "mimetype": "text/x-python",
   "name": "python",
   "nbconvert_exporter": "python",
   "pygments_lexer": "ipython3",
   "version": "3.12.0"
  }
 },
 "nbformat": 4,
 "nbformat_minor": 5
}
